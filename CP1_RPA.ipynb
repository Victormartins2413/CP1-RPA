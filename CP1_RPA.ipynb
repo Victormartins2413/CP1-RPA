{
  "nbformat": 4,
  "nbformat_minor": 0,
  "metadata": {
    "colab": {
      "provenance": []
    },
    "kernelspec": {
      "name": "python3",
      "display_name": "Python 3"
    },
    "language_info": {
      "name": "python"
    }
  },
  "cells": [
    {
      "cell_type": "code",
      "source": [
        "!pip install pdfplumber pandas openpyxl\n",
        "\n",
        "import pdfplumber\n",
        "import pandas as pd\n",
        "\n",
        "def extract_and_save_data(pdf_path: str, excel_path: str) -> None:\n",
        "    \"\"\"\n",
        "    Extrai dados de tabelas de um PDF e salva em um arquivo Excel.\n",
        "\n",
        "    Args:\n",
        "        pdf_path (str): Caminho do arquivo PDF.\n",
        "        excel_path (str): Caminho do arquivo Excel onde os dados serão salvos.\n",
        "    \"\"\"\n",
        "    def extract_tables_from_pdf(pdf_path: str) -> list:\n",
        "        \"\"\"Extrai tabelas do PDF.\"\"\"\n",
        "        tables = []\n",
        "        with pdfplumber.open(pdf_path) as pdf:\n",
        "            for page in pdf.pages:\n",
        "                tables.extend(page.extract_tables())\n",
        "        return tables\n",
        "\n",
        "    # Extrair tabelas\n",
        "    extracted_tables = extract_tables_from_pdf(pdf_path)\n",
        "\n",
        "    # Printar os dados extraídos no formato desejado\n",
        "    for i, table in enumerate(extracted_tables):\n",
        "        print(f\"Tabela {i + 1}:\")\n",
        "        for row in table:\n",
        "            print(row)\n",
        "\n",
        "    # Salvar as tabelas em um DataFrame e depois no Excel\n",
        "    with pd.ExcelWriter(excel_path, mode='a', engine='openpyxl') as writer:\n",
        "        for i, table in enumerate(extracted_tables):\n",
        "            df = pd.DataFrame(table)\n",
        "            df.to_excel(writer, sheet_name=f'Tabela_{i + 1}', index=False)\n",
        "\n",
        "    print(f'Dados salvos no arquivo {excel_path} com as tabelas extraídas.')\n",
        "\n",
        "# Caminhos dos arquivos\n",
        "pdf_path = '/content/Dados.pdf'\n",
        "excel_path = '/content/dados_ibge_cidade.xlsx'\n",
        "\n",
        "# Chamar a função principal\n",
        "extract_and_save_data(pdf_path, excel_path)\n"
      ],
      "metadata": {
        "id": "-1bGh9JeMSTJ"
      },
      "execution_count": null,
      "outputs": []
    }
  ]
}